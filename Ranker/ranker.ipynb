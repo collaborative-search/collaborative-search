{
 "metadata": {
  "language_info": {
   "codemirror_mode": {
    "name": "ipython",
    "version": 3
   },
   "file_extension": ".py",
   "mimetype": "text/x-python",
   "name": "python",
   "nbconvert_exporter": "python",
   "pygments_lexer": "ipython3",
   "version": "3.6.8-final"
  },
  "orig_nbformat": 2,
  "kernelspec": {
   "name": "python3",
   "display_name": "Python 3.6.8 64-bit",
   "metadata": {
    "interpreter": {
     "hash": "97f1e058fa4bb3952a6743f44a638f92373c8825d16de692f06e615084db881f"
    }
   }
  }
 },
 "nbformat": 4,
 "nbformat_minor": 2,
 "cells": [
  {
   "cell_type": "code",
   "execution_count": 1,
   "metadata": {},
   "outputs": [],
   "source": [
    "timespent = [0,1,2,3]\n",
    "avgscroll = [0,1,2,3]\n",
    "clickthrough = [0,2,3]\n",
    "pagesize = [0,1,2,3]"
   ]
  },
  {
   "cell_type": "code",
   "execution_count": 2,
   "metadata": {},
   "outputs": [],
   "source": [
    "import random"
   ]
  },
  {
   "cell_type": "code",
   "execution_count": 3,
   "metadata": {},
   "outputs": [],
   "source": [
    "import csv \n",
    "\n",
    "cnt = 3000\n",
    "\n",
    "f = open('dataset.csv', 'w', newline ='')\n",
    "with f:\n",
    "    header = ['timespent','avgscroll','clickthrough','pagesize','tgtclass'] \n",
    "    writer = csv.DictWriter(f, fieldnames = header)\n",
    "    writer.writeheader()\n",
    "    while cnt > 0:\n",
    "        cnt -= 1\n",
    "        timespent_ch = random.choices(timespent)[0]\n",
    "        avgscroll_ch = random.choices(avgscroll)[0]\n",
    "        clickthrough_ch = random.choices(clickthrough)[0]\n",
    "        pagesize_ch = random.choices(pagesize)[0]\n",
    "\n",
    "        tgtclass = ''\n",
    "\n",
    "        if timespent_ch == 0:\n",
    "            tgtclass = 'notinterested'\n",
    "        elif timespent_ch == 2:\n",
    "            if clickthrough_ch == 0:\n",
    "                tgtclass = 'weaklyinterested'\n",
    "            elif clickthrough_ch == 2:\n",
    "                if pagesize_ch == 0:\n",
    "                    tgtclass = 'notinterested'\n",
    "                elif pagesize_ch == 2:\n",
    "                    tgtclass = 'mediuminterested'\n",
    "                elif pagesize_ch == 1:\n",
    "                    tgtclass = 'weaklyinterested'\n",
    "                else:\n",
    "                    tgtclass = 'mediuminterested'\n",
    "            else:\n",
    "                tgtclass = 'mediuminterested'\n",
    "        elif timespent_ch == 1:\n",
    "            if avgscroll_ch == 0:\n",
    "                tgtclass = 'weaklyinterested'\n",
    "            elif avgscroll_ch == 1:\n",
    "                tgtclass = 'mediuminterested'\n",
    "            elif avgscroll_ch == 2:\n",
    "                tgtclass = 'weaklyinterested'\n",
    "            else:\n",
    "                tgtclass = 'notinterested'\n",
    "        else:\n",
    "            if avgscroll_ch == 0:\n",
    "                tgtclass = 'weaklyinterested'\n",
    "            elif avgscroll_ch == 1:\n",
    "                tgtclass = 'stronglyinterested'\n",
    "            elif avgscroll_ch == 3:\n",
    "                tgtclass = 'notinterested'\n",
    "            else:\n",
    "                if pagesize_ch == 0:\n",
    "                    tgtclass = 'weaklyinterested'\n",
    "                elif pagesize_ch == 1:\n",
    "                    tgtclass = 'weaklyinterested'\n",
    "                elif pagesize_ch == 2:\n",
    "                    tgtclass = 'mediuminterested'\n",
    "                else:\n",
    "                    tgtclass = 'stronglyinterested'\n",
    "        li = []\n",
    "        if tgtclass != '':\n",
    "            writer.writerow(\n",
    "                {'timespent':timespent_ch,\n",
    "                'avgscroll':avgscroll_ch,\n",
    "                'clickthrough':clickthrough_ch,\n",
    "                'pagesize':pagesize_ch,\n",
    "                'tgtclass':tgtclass})\n",
    "\n",
    "        \n"
   ]
  }
 ]
}